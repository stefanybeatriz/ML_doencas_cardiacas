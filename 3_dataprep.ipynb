{
 "cells": [
  {
   "cell_type": "markdown",
   "id": "40731a5b",
   "metadata": {},
   "source": [
    "### <font color='#005b96'>Data Science Aplicada à Área de Saúde</font><br>\n",
    "><font color='#438496'>***DS 1b*** **| Doenças Cardíacas :** Preparação dos Dados (*DataPrep*) - 1</font>\n",
    "<br>\n",
    "><font color='#438496'>professor *Rodrigo Signorini*</font>"
   ]
  },
  {
   "cell_type": "markdown",
   "id": "81b2e7d0",
   "metadata": {},
   "source": [
    "### <font color='#005b96'>Table of Contents</font>\n",
    "\n",
    "- [Motivação](#Motivação)\n",
    "- [Problema](#Problema)\n",
    "- [Base de Dados](#Base_de_Dados)\n",
    "- [Configurando o Ambiente](#Configurando_o_Ambiente)\n",
    "- [Importando os Dados](#Importando_os_Dados)\n",
    "- [Obtendo Informações Iniciais](#Obtendo_Informações_Iniciais)\n",
    "- [Preparação de Dados (*DataPrep*)](#Preparação_de_Dados_(*DataPrep*))\n",
    "    - [Manipulando os dados nulos](#Manipulando_os_dados_nulos)\n",
    "    - [Transformando e Balanceando a Variável Dependente (*Target*)](#Transformando_e_Balanceando_a_Variável_Dependente_(*Target*))\n",
    "    - [Transformando as Variáveis Independentes (*Features*)](#Transformando_as_Variáveis_Independentes_(*Features*))\n",
    "        - [Variáveis Qualitativas](#Variáveis_Qualitativas)\n",
    "            - [Ordinal](#Ordinal)\n",
    "            - [Nominal](#Nominal)\n",
    "            - [Binária](#Binária)"
   ]
  },
  {
   "cell_type": "markdown",
   "id": "2913c291",
   "metadata": {},
   "source": [
    "---\n",
    "### <a id = \"Motivação\"><font color='#005b96'>Motivação</font></a>\n",
    "\n",
    "- **Cenário Global**\n",
    "\n",
    "Segundo a *World Health Organization*, as doenças cardiovasculares (DCVs) são a principal causa de morte no mundo todo, com cerca de 17,9 milhões por ano. Mais de quatro em cada cinco mortes por DCVs têm como causas principais ataques cardíacos e derrames, e um terço dessas mortes ocorre prematuramente em pessoas com menos de 70 anos de idade.\n",
    "\n",
    "> - cerca de 17,9 milhões de pessoas morrem de doenças cardiovasculares por ano\n",
    ">\n",
    "> - Mortes por DVCs representam cerca de 32% de todas as causas de mortes\n",
    "\n",
    "- **Cenário Estados Unidos**\n",
    "\n",
    "Em 2018, o *Center for Disease Control and Prevention (CDC)* classificou as doenças cardíacas como a principal causa de mortalidade nos Estados Unidos e continua a classificá-la como tanto até os dias de hoje. Devido à complexidade e às variações do número crescente de fatores de risco, o uso de técnicas avançadas como *Machine Learning* vem sendo empregadas para auxiliar no combate contra doenças cardíacas e derrames. Segundo o site da *American Heart Association*, de fevereiro de 2018 até o momento, já houve uma redução de 15,1% nas mortes por doenças cardíacas nos Estados Unidos.\n",
    "\n",
    "> - cerca de 1 ataque cardíaco a cada 40 segundos\n",
    ">\n",
    "> - cerca de 805.000 americanos têm 1 ataque cardíaco por ano\n",
    ">\n",
    "> - cerca de 47% de todos os americanos têm pelo menos 1 dos 3 principais fatores de risco para doenças cardíacas: pressão alta, colesterol alto e diabetes\n",
    "\n",
    "Identificar aqueles com maior risco de DCVs e garantir que eles recebam tratamento adequado pode prevenir mortes prematuras. O acesso a medicamentos para doenças não transmissíveis e tecnologias básicas de saúde em todas as unidades básicas de saúde é essencial para garantir que os necessitados recebam tratamento e aconselhamento."
   ]
  },
  {
   "cell_type": "markdown",
   "id": "06a0e9ca",
   "metadata": {},
   "source": [
    "---\n",
    "### <a id = \"Problema\"><font color='#005b96'>Problema</font></a>\n",
    "\n",
    "Desenvolver um modelo preditivo que seja capaz de predizer a presença de doenças cardíacas."
   ]
  },
  {
   "cell_type": "markdown",
   "id": "de540db8",
   "metadata": {},
   "source": [
    "---\n",
    "### <a id = \"Base_de_Dados\"><font color='#005b96'>Base de Dados</font></a>\n",
    "\n",
    "O conjunto de dados é composto por 303 amostras - onde cada amostra representa um paciente distinto -, com 14 características - onde 13 delas são consideradas relevantes como preditores de doenças cardíacas -, e 1 é a própria indicação da presença ou não da doença.\n",
    "\n",
    "Origem:\n",
    "\n",
    "1. University of California Irvine (UCI) Machine Learning Repository\n",
    "\n",
    "Creators:\n",
    "\n",
    "1. Hungarian Institute of Cardiology. Budapest: Andras Janosi, M.D.\n",
    "2. University Hospital, Zurich, Switzerland: William Steinbrunn, M.D.\n",
    "3. University Hospital, Basel, Switzerland: Matthias Pfisterer, M.D.\n",
    "4. V.A. Medical Center, Long Beach and Cleveland Clinic Foundation: Robert Detrano, M.D., Ph.D.\n",
    "\n",
    "<sub><font color='black'>*Para fins meramente didáticos, esse conjunto de dados recebeu algumas edições, as quais não inferem prejuízo algum quanto à íntegra das informações contidas no mesmo.*</font></sub>"
   ]
  },
  {
   "cell_type": "markdown",
   "id": "9784a80a",
   "metadata": {},
   "source": [
    "|Feature|Description|\n",
    "|-------|-----------|\n",
    "|Age|Age of patient (in years)|\n",
    "|Sex|Sex of patient|\n",
    "|CP type|Chest Pain type|\n",
    "|SBP (at rest)|Resting Blood Pressure (in mm Hg)|\n",
    "|Cholesterol (total)|Cholestoral (in mg/dl)|\n",
    "|FBS Test|Fasting Blood Sugar (if > 120 mg/dl)|\n",
    "|ECG (at rest)|Resting Electrocardiographic results|\n",
    "|HRmax|Maximum Heart Rate achieved during the patient's Stress Testing|\n",
    "|Angina (exercise-induced)|Exercise Induced Angina|\n",
    "|ST Depression (exercise-induced)|ST depression induced by exercise relative to rest|\n",
    "|ST Slope (at peak exercise)|Slope of the Peak Exercise ST segment|\n",
    "|N of Major Vessels (flourosopy)|Number of major vessels (0-3) colored by flourosopy|\n",
    "|Thallium ST|Thallium Stress Test|\n",
    "|Diagnosis (multiclass)|Absence or presence of heart desease|"
   ]
  },
  {
   "cell_type": "markdown",
   "id": "e5ba2975",
   "metadata": {},
   "source": [
    "---\n",
    "#### <a id = \"Configurando_o_Ambiente\"><font color='#005b96'>Configurando o Ambiente</font></a>"
   ]
  },
  {
   "cell_type": "code",
   "execution_count": null,
   "id": "94f9b18f",
   "metadata": {},
   "outputs": [],
   "source": [
    "# importing numpy\n",
    "import numpy as np\n",
    "\n",
    "# importing pandas\n",
    "import pandas as pd\n",
    "\n",
    "# Sets the maximum number of rows and columns displayed ('None' value means unlimited)\n",
    "pd.set_option('display.max_columns', None)\n",
    "pd.set_option('display.max_rows', None)\n",
    "\n",
    "# importing matplotlib\n",
    "import matplotlib.pyplot as plt\n",
    "\n",
    "# %matplotlib inline\n",
    "\n",
    "# Matplotlib's runtime configuration (rc) to customize default settings\n",
    "plt.rcParams[\"figure.figsize\"] = [6, 3]"
   ]
  },
  {
   "cell_type": "markdown",
   "id": "24aa336e",
   "metadata": {},
   "source": [
    "---\n",
    "#### <a id = \"Importando_os_Dados\"><font color='#005b96'>Importando os Dados</font></a>"
   ]
  },
  {
   "cell_type": "code",
   "execution_count": null,
   "id": "6ac5f288",
   "metadata": {},
   "outputs": [],
   "source": [
    "# importing data (from a csv file into DataFrame)\n",
    "df_raw = pd.read_csv('Classification_Diagnosis_of_Heart_Disease_multiclass_v01.csv')"
   ]
  },
  {
   "cell_type": "markdown",
   "id": "5e121af2",
   "metadata": {},
   "source": [
    "---\n",
    "#### <a id = \"Obtendo_Informações_Iniciais\"><font color='#005b96'>Obtendo Informações Iniciais</font></a>"
   ]
  },
  {
   "cell_type": "code",
   "execution_count": null,
   "id": "5b9081bc",
   "metadata": {},
   "outputs": [],
   "source": [
    "# Usando head() para visualizar as 5 primeiras linhas do DataFrame (default)\n",
    "df_raw.head()"
   ]
  },
  {
   "cell_type": "code",
   "execution_count": null,
   "id": "090720b8",
   "metadata": {},
   "outputs": [],
   "source": [
    "# Usando shape para obter as dimensões do DataFrame\n",
    "df_raw.shape"
   ]
  },
  {
   "cell_type": "markdown",
   "id": "25d38318",
   "metadata": {},
   "source": [
    "---\n",
    "### <a id = \"Preparação_de_Dados_(*DataPrep*)\"><font color='#005b96'>Preparação de Dados (*DataPrep*)</font></a>\n",
    "\n",
    "**Preparação de Dados (*DataPrep*)** é uma etapa fundamental no campo da Ciência de Dados, onde se aplicam técnicas e procedimentos cujo objetivo é organizar e transformar os dados brutos - pré-processamento - para que os mesmos fiquem adequadamente formatados para serem utilizados em análises subsequentes, como por exemplo, por algoritmos de *Machine Learning*. É nessa fase tão crítica e importante que se corrigem erros evidentes nos dados, manipulam-se os dados nulos através de sua eliminação ou mesmo por alguma técnica de imputação de valores aos mesmos, decide-se como tratar e utilizar ou não os *outliers* que podem distorcer as análises, balanceiam-se as classes a serem preditas no caso de problemas de classificação para evitar a possibilidade de viés, convertem-se valores qualitativos em forma de texto para valores numéricos, aplicam-se transformações aos dados numéricos para atender a determinados critérios (como por exemplo *scaling*), elaboram-se novas *features* (*feature engineering*) e tantas outras possibilidades que venham a ser criativamente concebidas.\n",
    "\n",
    "Como já observado anteriormente, a fase de análise exploratória e preparação de dados é uma parte extensa, demorada e crítica da análise de dados e do processo de tomada de decisão baseada em dados. Uma vez que os dados estejam preparados adequadamente, a probabilidade de que modelos estatísticos e de aprendizado de máquina produzam resultados mais fidedignos e úteis se torna cada vez mais próxima do sucesso."
   ]
  },
  {
   "cell_type": "markdown",
   "id": "276364f1-bda6-46e0-8fd0-10d67dea885a",
   "metadata": {},
   "source": [
    "#### <a id = \"Manipulando_os_dados_nulos\"><font color='#005b96'>Manipulando os dados nulos</font></a>\n",
    "\n",
    "De acordo com a AED já realizada, foi constatado a presença de dados nulos no *dataset*.\n",
    "\n",
    "Em muitas situações será necessário eliminar linhas (*samples*) - quando essas apresentarem uma quantidade insignificante de valores nulos - ou mesmo colunas (*features*) - quando essas apresentarem uma quantidade significativa de valores nulos. No caso de substutuição de muitos valores, algumas técnicas de imputação podem ser utilizadas, mas podem resultar em informações fracas, equivocadas ou mesmo fora de contexto, prejudicando seriamente a capacidade de se produzir um modelo adequado. Tais decisões sobre quais abordagens adotar para uma manipulação mais eficiente desses valores nulos irão depender do problema a ser resolvido e de uma forte análise sobre o contexto dos mesmos."
   ]
  },
  {
   "cell_type": "code",
   "execution_count": null,
   "id": "781dd921-9f75-4ef1-a779-ab85e1f8b904",
   "metadata": {},
   "outputs": [],
   "source": [
    "# criando a series com 667 valores contínuos e 333 valores nulos (média 0 e desvio padrão 1)\n",
    "np.random.seed(0)  # Define a semente para reproducibilidade\n",
    "# loc: mean (“centre”) of the distribution | scale: Standard deviation of the distribution | size: size of the distribuition\n",
    "dados_continuos = np.random.normal(loc=0, scale=1, size=667)\n",
    "dados_nulos = [np.nan] * 333\n",
    "dados = np.concatenate([dados_continuos, dados_nulos])\n",
    "series = pd.Series(dados)\n",
    "\n",
    "# histograma\n",
    "plt.hist(series, bins=32)\n",
    "plt.show()\n",
    "\n",
    "# substituindo os dados nulos pela média dos valores\n",
    "media = series.mean()\n",
    "series_nan_mean = series.fillna(media)\n",
    "\n",
    "# histograma\n",
    "plt.hist(series_nan_mean, bins=32)\n",
    "plt.show()"
   ]
  },
  {
   "cell_type": "markdown",
   "id": "76ebf8b2-7f13-4057-8413-26439b88548d",
   "metadata": {},
   "source": [
    "No caso específico de nossa análise, a opção é por remover esses registros onde foram detectados os respectivos valores nulos por estarem representando uma fração irrisóra do todo."
   ]
  },
  {
   "cell_type": "code",
   "execution_count": null,
   "id": "e76a5226",
   "metadata": {},
   "outputs": [],
   "source": [
    "# obtendo a quantidade de valores nulos\n",
    "df_raw.isnull().sum()"
   ]
  },
  {
   "cell_type": "markdown",
   "id": "3705c277",
   "metadata": {},
   "source": [
    "Para remover os valores nulos do *DataFrame*, utilizamos a função **dropna()** do *pandas*. Dois parâmetros dessa função são importantes de se entender, os quais ***axis*** e ***how***.\n",
    "\n",
    "***axis*** determina se serão removidas linhas ou colunas no caso de conterem valores nulos.\n",
    "\n",
    "> - **0** ou *'index'* : remove linhas (*default*)\n",
    ">\n",
    "> - **1** ou *'columns'* : remove colunas\n",
    "\n",
    "***how*** determina se linhas ou colunas a serem removidas devem conter pelo menos um valor como nulo ou todos os valores como nulos.\n",
    "\n",
    "> - *'any'* : se algum valor nulo estiver presente (*defalult*)\n",
    ">\n",
    "> - *'all'* : se todos os valores forem nulos"
   ]
  },
  {
   "cell_type": "code",
   "execution_count": null,
   "id": "6403d6ad",
   "metadata": {},
   "outputs": [],
   "source": [
    "# criando uma nova versão do DataFrame\n",
    "df_dataPrep_01 = df_raw.copy()\n",
    "df_dataPrep_01.shape"
   ]
  },
  {
   "cell_type": "code",
   "execution_count": null,
   "id": "8844c039",
   "metadata": {},
   "outputs": [],
   "source": [
    "# removendo valores nulos\n",
    "df_dataPrep_01.dropna(inplace=True)\n",
    "df_dataPrep_01.shape"
   ]
  },
  {
   "cell_type": "markdown",
   "id": "913d1f6a",
   "metadata": {},
   "source": [
    "#### <a id = \"Transformando_e_Balanceando_a_Variável_Dependente_(*Target*)\"><font color='#005b96'>Transformando e Balanceando a Variável Dependente (*Target*)</font></a>\n",
    "\n",
    "A variável dependente *(target)* apresenta 5 níveis de informação (5 classes):\n",
    "\n",
    "- 1 nível indicando que **não há** presença de doença cardíaca (*healthy*) e\n",
    "- 4 níveis indicando que **há** presença de doença cardíaca (*sick-low, sick-medium, sick-high e sick-serious*)."
   ]
  },
  {
   "cell_type": "code",
   "execution_count": null,
   "id": "37afeb25",
   "metadata": {},
   "outputs": [],
   "source": [
    "# obtendo valores distintos (únicos)\n",
    "df_dataPrep_01['Diagnosis (multiclass)'].unique()"
   ]
  },
  {
   "cell_type": "markdown",
   "id": "8b5dee9e",
   "metadata": {},
   "source": [
    "Efetuando abaixo a contagem de frequência das classes, observe que são 160 pacientes saudáveis e 137 pacientes doentes, onde cada nível referente aos pacientes doentes representa a magnitude da gravidade da doença com a seguinte frequência de ocorrências: 54 *low*, 35 *medium*, 35 *high* e 13 *serious*."
   ]
  },
  {
   "cell_type": "code",
   "execution_count": null,
   "id": "9c929a1f",
   "metadata": {},
   "outputs": [],
   "source": [
    "# obtendo a contagem de frequência de valores distintos\n",
    "df_dataPrep_01['Diagnosis (multiclass)'].value_counts()"
   ]
  },
  {
   "cell_type": "markdown",
   "id": "72370b6a",
   "metadata": {},
   "source": [
    "Um ponto de atenção considerável em *Machine Learning* é o **desbalanceamento entre as classes a serem preditas**. Essa desproporcionalidade entre essas classes resulta em um cenário onde o algoritmo tenderá a aprender muito sobre como classificar pacientes saudáveis (160) e pouco sobre como classificar pacientes doentes, principalmente os do nível mais grave da doença (apenas 13).\n",
    "\n",
    "Uma alternativa efetiva é classificar os diferentes níveis da doença em apenas um único nível, representando então 137 observações indicando a presença de doença cardíaca. Dessa maneira, se balanceia o *dataset* de forma viável, oferecendo então melhores condições para que o algoritmo aprenda melhor sobre como classificar a presença de doenças com uma proporção mais equalizada em comparação à ausência dela.\n",
    "\n",
    "Para tanto, vamos codificar as 5 classes como sendo 2 classes, transformando a variável dependente (*target*) de natureza multiclasse para binária, onde **0** (*healthy*) representará a *'ausência de doença'* e **1** (*sick-low*, *sick-medium*, *sick-high* e *sick-serious*) a *'presença de doença'*."
   ]
  },
  {
   "cell_type": "code",
   "execution_count": null,
   "id": "3b0dd1f5",
   "metadata": {},
   "outputs": [],
   "source": [
    "# criando uma nova versão do DataFrame\n",
    "df_dataPrep_02 = df_dataPrep_01.copy()\n",
    "df_dataPrep_02.shape"
   ]
  },
  {
   "cell_type": "code",
   "execution_count": null,
   "id": "678b661e",
   "metadata": {},
   "outputs": [],
   "source": [
    "# definindo o mapeamento das categorias para valores numéricos\n",
    "cat2num_binary = {'healthy': 0, 'sick-low': 1, 'sick-medium': 1, 'sick-high' : 1, 'sick-serious' : 1}\n",
    "\n",
    "# aplicando o mapeamento\n",
    "df_dataPrep_02['Diagnosis (binary)'] = df_dataPrep_01['Diagnosis (multiclass)'].map(cat2num_binary)\n",
    "\n",
    "df_dataPrep_02.head()"
   ]
  },
  {
   "cell_type": "code",
   "execution_count": null,
   "id": "d6b2bf1b",
   "metadata": {},
   "outputs": [],
   "source": [
    "# obtendo a contagem de frequência de valores distintos\n",
    "df_dataPrep_02['Diagnosis (binary)'].value_counts()"
   ]
  },
  {
   "cell_type": "code",
   "execution_count": null,
   "id": "a39cdc0b",
   "metadata": {},
   "outputs": [],
   "source": [
    "# removendo linhas (axis=0) ou colunas (axis=1)\n",
    "df_dataPrep_02.drop(labels='Diagnosis (multiclass)', axis=1, inplace=True)\n",
    "df_dataPrep_02.head()"
   ]
  },
  {
   "cell_type": "markdown",
   "id": "4a6cc257",
   "metadata": {},
   "source": [
    "#### <a id = \"Transformando_as_Variáveis_Independentes_(*Features*)\"><font color='#005b96'>Transformando as Variáveis Independentes (*Features*)</font></a>\n",
    "\n",
    "Conforme o resultado da AED previamente realizada e respectivas definições, vamos aplicar algumas técnicas de pré-processamento de dados no intuito de preparar os dados para uma correta entrega aos algoritmos de *Machine Learning*."
   ]
  },
  {
   "cell_type": "markdown",
   "id": "095ea186",
   "metadata": {},
   "source": [
    "| quantitativa DISCRETA | quantitativa CONTÍNUA | qualitativa NOMINAL | qualitativa ORDINAL |\n",
    "|:----------------------|:----------------------|:--------------------|:--------------------|\n",
    "| | Age | | |\n",
    "| | | Sex ** | |\n",
    "| | | CP type | |\n",
    "| | SBP (at rest) | | |\n",
    "| | Cholesterol (total) | | |\n",
    "| | | FBS Test ** | |\n",
    "| | | | ECG (at rest) |\n",
    "| | HRmax | | |\n",
    "| | | Angina (exercise-induced) ** | |\n",
    "| | ST Depression (exercise-induced) | | |\n",
    "| | | ST Slope (at peak exercise) | |\n",
    "| N of Major Vessels (flourosopy) | | | |\n",
    "| | | | Thallium ST |\n",
    "\n",
    "** *binária*"
   ]
  },
  {
   "cell_type": "markdown",
   "id": "445c45c1",
   "metadata": {},
   "source": [
    "| feature | type | values |\n",
    "|:--------|:-----|:-------|\n",
    "| Age     | int : quant Contínua | 0 nulos (0.0%), 41 distintos, entre 29 a 77 |\n",
    "| Sex     | object : quali Binária| 0 nulos (0.0%), 02 distintos: male 206, female 97 |\n",
    "| CP type | object : quali Nominal | 0 nulos (0.0%), 4 distintos: typical angina 144, asymptomatic 86, non-anginal pain 50, atypical angina 23 |\n",
    "| SBP (at rest) | int : quant Contínua | 0 nulos (0.0%), 50 distintos, entre 94 e 200 |\n",
    "| Cholesterol (total) | int : quant Contínua | 0 nulos (0.0%), 152 distintos, entre 126 e 564 |\n",
    "| FBS Test | bool : quali Binária | 0 nulos (0.0%), 2 distintos : True 258, False 45 |\n",
    "| ECG (at rest) | object : quali Ordinal| 0 nulos (0.0%), 3 distintos : showing left ventricular hypertrophy 151, normal 148, having ST-T wave abnormality 4 |\n",
    "| HRmax | int : quant Contínua | 0 nulos (0.0%), 91 distintos : entre 71 e 202 |\n",
    "| Angina (exercise-induced) | object : quali Binária | 0 nulos (0.0%), 2 distintos : no 204, yes 99 |\n",
    "| ST Depression (exercise-induced) | float : quant Contínua | 0 nulos (0.0%), 40 distintos : entre 0.0 e 6.2 |\n",
    "| ST Slope (at peak exercise) | object : quali Nominal | 0 nulos (0.0%), 3 distintos : downsloping 142, flat 140, upsloping 21 |\n",
    "| N of Major Vessels (flourosopy) | float : quant Discreta | 4 nulos (0.01%), 4 distintos : entre 0.0 e 3.0\n",
    "| Thallium ST | object : quali Ordinal | 2 nulos (0.01%), 3 distintos : fixed defect 18, normal 166, reversible defect 117 |"
   ]
  },
  {
   "cell_type": "markdown",
   "id": "8f30a534",
   "metadata": {},
   "source": [
    "#### <a id = \"Variáveis_Qualitativas\"><font color='#005b96'>Variáveis Qualitativas</font></a>\n",
    "\n",
    "A codificação de variáveis qualitativas (também chamadas de variáveis categóricas) de formato texto para formato numérico é uma etapa essencial na preparação de dados em projetos de Ciência de Dados, pois muitos modelos estatísticos e algoritmos de aprendizado de máquina dependem de cálculos matemáticos que requerem, obviamente, dados numéricos. Ainda, muitas bibliotecas e ferramentas de análise e modelagem de dados são projetadas para trabalhar apenas com dados exclusivamente numéricos, o que faz essa necessidade ser também um facilitador para a integração dessas ferramentas em qualquer fluxo de trabalho.\n",
    "\n",
    "A escolha da técnica correta depende da natureza da variável qualitativa e até mesmo do algoritmo que será utilizado. Para uma variável qualitativa de natureza **ordinal**, podemos realizar a **Codificação Ordinal**. Já para uma variável qualitativa de natureza **nominal**, podemos realizar a **Codificação *One-Hot***."
   ]
  },
  {
   "cell_type": "code",
   "execution_count": null,
   "id": "bd07c61c",
   "metadata": {},
   "outputs": [],
   "source": [
    "# criando uma nova versão do DataFrame\n",
    "df_dataPrep_03 = df_dataPrep_02.copy()"
   ]
  },
  {
   "cell_type": "markdown",
   "id": "389b3a76",
   "metadata": {},
   "source": [
    "#### <a id = \"Ordinal\"><font color='#005b96'>Ordinal</font></a>\n",
    "\n",
    "Se a variável qualitativa tem uma natureza ordinal, isso é, apresenta ordem intrínseca (hierarquia), atribui-se valores numéricos às categorias respeitando a própria ordem observada."
   ]
  },
  {
   "cell_type": "code",
   "execution_count": null,
   "id": "a1a327e0",
   "metadata": {},
   "outputs": [],
   "source": [
    "# analisando o grau de hierarquia das classes\n",
    "df_dataPrep_03.groupby('ECG (at rest)')['Diagnosis (binary)'].value_counts(normalize=True).plot.bar()"
   ]
  },
  {
   "cell_type": "code",
   "execution_count": null,
   "id": "fc8b8544",
   "metadata": {},
   "outputs": [],
   "source": [
    "df_dataPrep_03['ECG (at rest)'] = df_dataPrep_02['ECG (at rest)'].map({'normal': 0, \n",
    "                                                                       'showing left ventricular hypertrophy': 1, \n",
    "                                                                       'having ST-T wave abnormality': 2})\n",
    "df_dataPrep_03.head()"
   ]
  },
  {
   "cell_type": "code",
   "execution_count": null,
   "id": "f1869095",
   "metadata": {},
   "outputs": [],
   "source": [
    "# code..."
   ]
  },
  {
   "cell_type": "markdown",
   "id": "f773e94a",
   "metadata": {},
   "source": [
    "#### <a id = \"Nominal\"><font color='#005b96'>Nominal</font></a>\n",
    "\n",
    "**Codificação *One-Hot*** (*One-Hot Encoder* / *Dummy Variable Encoder*)\n",
    "\n",
    "Se a variável qualitativa tem uma natureza nominal, isso é, não apresenta ordem intrínseca (hierarquia), criam-se variáveis binárias para cada categoria existente em cada uma das variáveis qualitativas nominais. Cada uma dessas novas variáveis é chamada de *dummy variable* (também conhecida como *indicator variable*), que, tecnicamente, são variáveis dicotômicas, pois assumem apenas dois valores possíveis - geralmente **0** e **1** -, onde **0** representa a ausência da categoria qualitativa **1** representa a presença da categoria qualitativa."
   ]
  },
  {
   "cell_type": "markdown",
   "id": "f4348d3d",
   "metadata": {},
   "source": [
    "Para enternder o conceito envolvido na codificação *One-Hot*, vamos supor um cenário hipotético:\n",
    "\n",
    ">Uma variável qualitativa nominal **X1** apresenta três categorias distintas: **a**, **b** e **c**. Ao codificarmos essas categorias de forma ordinal, respectivamente, como **1**, **2** e **3**, um algoritmo matemático poderia facilmente aprender que a categoria **c** exerce um grau de maior importância sobre **b** e **a**. Sendo a referida variável uma qualitativa **nominal**, onde suas categorias não apresentam nenhum sentido hierárquico, tais valores atribuídos são um equívoco extremamente perigoso, podendo, como consequência, gerar modelos com sérios problemas de viés (*bias*)."
   ]
  },
  {
   "cell_type": "markdown",
   "id": "dae65e3c",
   "metadata": {},
   "source": [
    "Mesmo sendo a codificação *One-Hot* uma técnica amplamente usada e eficiente no seu propósito, essa técnica pode ter algumas implicações quando se trata do uso de alguns algoritmos de aprendizado de máquina, onde a compreensão das mesmas são de suma importância para evitar a sua aplicação de forma arbitrária e prejudicial. Algumas dessas implicações que devemos nos atentar são o **aumento da dimensionalidade** (aumento de variáveis no conjunto de dados), a **esparsidade dos dados** (grande maioria das observações em um conjunto de dados codificadas com valores zero) e a **eficiência computacional** (lentidão no tempo de treinamento e predição do modelo e consequente alto custo financeiro). Ainda, alguns conceitos que ainda iremos nos deparar e que também podem ter implicações são a **multicolinearidade** e o **overfitting**.\n",
    "\n",
    "Obviamente que temos algumas maneiras para lidar com essas implicações ao usar a codificação *One-Hot*, as quais a **feature selection** (utilização de técnicas para selecionar as variáveis mais relevantes, reduzindo a dimensionalidade), **algoritmos específicos** (menos afetados pela alta dimensionalidade e menos sensíveis aos problemas de multicolinearidade), assim como conceitos que também iremos nos deparar como **regularização** (mitigação de multicolinearidade e de *overfitting*) e **redução de dimensionalidade** (também uma alternativa para reduir a dimensionalidade).\n",
    "\n",
    "Em resumo, enquanto a codificação *One-Hot* é uma técnica valiosa para codificar variáveis qualitativas nominais, é importante considerar tanto as implicações associadas à sua aplicação quanto saber escolher as abordagens adequadas para mitigar esses respectivos problemas."
   ]
  },
  {
   "cell_type": "markdown",
   "id": "5e5de6b2",
   "metadata": {},
   "source": [
    "A função ***get_dummies()*** do *pandas* nos oferece de forma muito simples e eficiente as condições necessárias para que possamos criar a codificação *One-Hot* e então as respectivas variáveis *dummies*."
   ]
  },
  {
   "cell_type": "code",
   "execution_count": null,
   "id": "ff215886",
   "metadata": {},
   "outputs": [],
   "source": [
    "# Cria nova versão do DataFrame\n",
    "df_dataPrep_04 = df_dataPrep_03.copy()"
   ]
  },
  {
   "cell_type": "code",
   "execution_count": null,
   "id": "b15a5320",
   "metadata": {
    "scrolled": true
   },
   "outputs": [],
   "source": [
    "# Codificação One-Hot\n",
    "df_dummies = pd.get_dummies(df_dataPrep_03['CP type'], prefix='CP type', prefix_sep='_', drop_first=False)\n",
    "df_dummies.head()"
   ]
  },
  {
   "cell_type": "code",
   "execution_count": null,
   "id": "3c61af88",
   "metadata": {},
   "outputs": [],
   "source": [
    "# concatenando DataFrames\n",
    "df_dataPrep_04 = pd.concat([df_dataPrep_04, df_dummies], axis=1)\n",
    "df_dataPrep_04.head()"
   ]
  },
  {
   "cell_type": "code",
   "execution_count": null,
   "id": "9dc80ec5",
   "metadata": {},
   "outputs": [],
   "source": [
    "# # removendo linhas (axis=0) ou colunas (axis=1)\n",
    "df_dataPrep_04.drop(labels='CP type', axis=1, inplace=True)\n",
    "df_dataPrep_04.head()"
   ]
  },
  {
   "cell_type": "markdown",
   "id": "fb74e01f",
   "metadata": {},
   "source": [
    "#### <a id = \"Binária\"><font color='#005b96'>Binária</font></a>\n",
    "\n",
    "Por definição, uma variável **binária** - ou **dicotômica** -, possui apenas duas categorias únicas possíveis, como por exemplo , *\"Sim\"* ou *\"Não\"*, *\"Verdadeiro\"* ou *\"Falso\"*. Para essas variáveis, a codificação *One-Hot* não faz sentido e introduz redundância desnecessária nas representações dos dados, pois a criação de duas variáveis (uma para cada categoria) faz com que, para cada observação, uma sempre contenha 1 enquanto a outra sempre contenha 0."
   ]
  },
  {
   "cell_type": "code",
   "execution_count": null,
   "id": "e6f2489e",
   "metadata": {},
   "outputs": [],
   "source": [
    "# Cria nova versão do DataFrame\n",
    "df_dataPrep_05 = df_dataPrep_04.copy()"
   ]
  },
  {
   "cell_type": "code",
   "execution_count": null,
   "id": "83d718b3",
   "metadata": {},
   "outputs": [],
   "source": [
    "# code..."
   ]
  },
  {
   "cell_type": "code",
   "execution_count": null,
   "id": "31ccc066",
   "metadata": {},
   "outputs": [],
   "source": [
    "'''\n",
    "Write object to a comma-separated values (csv) file\n",
    "'''\n",
    "df_dataPrep_05.to_csv('Classification_Diagnosis_of_Heart_Disease_DataPrep_v02.csv', index=False)"
   ]
  }
 ],
 "metadata": {
  "kernelspec": {
   "display_name": "Python 3 (ipykernel)",
   "language": "python",
   "name": "python3"
  },
  "language_info": {
   "codemirror_mode": {
    "name": "ipython",
    "version": 3
   },
   "file_extension": ".py",
   "mimetype": "text/x-python",
   "name": "python",
   "nbconvert_exporter": "python",
   "pygments_lexer": "ipython3",
   "version": "3.8.18"
  }
 },
 "nbformat": 4,
 "nbformat_minor": 5
}
